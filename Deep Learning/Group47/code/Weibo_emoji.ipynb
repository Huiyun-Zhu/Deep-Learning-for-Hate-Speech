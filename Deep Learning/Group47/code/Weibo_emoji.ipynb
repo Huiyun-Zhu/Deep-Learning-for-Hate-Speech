{
 "cells": [
  {
   "metadata": {},
   "cell_type": "markdown",
   "source": "# Load Data",
   "id": "bc9a9e13059f1332"
  },
  {
   "metadata": {
    "ExecuteTime": {
     "end_time": "2024-05-25T22:38:15.708334Z",
     "start_time": "2024-05-25T22:38:14.157698Z"
    }
   },
   "cell_type": "code",
   "source": [
    "import pandas as pd\n",
    "import numpy as np\n",
    "import torch"
   ],
   "id": "621187f7d985d808",
   "outputs": [],
   "execution_count": 1
  },
  {
   "metadata": {
    "ExecuteTime": {
     "end_time": "2024-05-25T22:38:16.778536Z",
     "start_time": "2024-05-25T22:38:16.745748Z"
    }
   },
   "cell_type": "code",
   "source": [
    "train=pd.read_csv('../weibo_emoji_data/train_weibo_emoji.csv')\n",
    "test=pd.read_csv('../weibo_emoji_data/test_weibo_emoji.csv')"
   ],
   "id": "65db0459772c445f",
   "outputs": [],
   "execution_count": 2
  },
  {
   "metadata": {
    "ExecuteTime": {
     "end_time": "2024-05-25T22:38:18.313356Z",
     "start_time": "2024-05-25T22:38:18.279032Z"
    }
   },
   "cell_type": "code",
   "source": "train.head()",
   "id": "e797629fa2c3a8a1",
   "outputs": [
    {
     "data": {
      "text/plain": [
       "                                        comment_text  label\n",
       "0      我很佩服国外一些真·女权人士 为追求平等权利  而国内大部分都是田园👊基本上都是为了拿特权      1\n",
       "1  看来你的脑子真是有问题，你连你讨论的目标该是什么人都搞不清楚吗？我们在讨论的是事件外评论者呢...      1\n",
       "2                       大魔王和马良吧！这两个人简直标准答案，其它人也不抄一下😅      0\n",
       "3  我一开始了解狗粉丝是因为演员热依扎，当时她因为抑郁症精神状态很不好，大批狗粉丝辱骂她让她早点...      0\n",
       "4  有意识地建立自己的社群也很重要，一个人不穿bra走在路上孤单单，一群人不穿bra走在路上理直...      0"
      ],
      "text/html": [
       "<div>\n",
       "<style scoped>\n",
       "    .dataframe tbody tr th:only-of-type {\n",
       "        vertical-align: middle;\n",
       "    }\n",
       "\n",
       "    .dataframe tbody tr th {\n",
       "        vertical-align: top;\n",
       "    }\n",
       "\n",
       "    .dataframe thead th {\n",
       "        text-align: right;\n",
       "    }\n",
       "</style>\n",
       "<table border=\"1\" class=\"dataframe\">\n",
       "  <thead>\n",
       "    <tr style=\"text-align: right;\">\n",
       "      <th></th>\n",
       "      <th>comment_text</th>\n",
       "      <th>label</th>\n",
       "    </tr>\n",
       "  </thead>\n",
       "  <tbody>\n",
       "    <tr>\n",
       "      <th>0</th>\n",
       "      <td>我很佩服国外一些真·女权人士 为追求平等权利  而国内大部分都是田园👊基本上都是为了拿特权</td>\n",
       "      <td>1</td>\n",
       "    </tr>\n",
       "    <tr>\n",
       "      <th>1</th>\n",
       "      <td>看来你的脑子真是有问题，你连你讨论的目标该是什么人都搞不清楚吗？我们在讨论的是事件外评论者呢...</td>\n",
       "      <td>1</td>\n",
       "    </tr>\n",
       "    <tr>\n",
       "      <th>2</th>\n",
       "      <td>大魔王和马良吧！这两个人简直标准答案，其它人也不抄一下😅</td>\n",
       "      <td>0</td>\n",
       "    </tr>\n",
       "    <tr>\n",
       "      <th>3</th>\n",
       "      <td>我一开始了解狗粉丝是因为演员热依扎，当时她因为抑郁症精神状态很不好，大批狗粉丝辱骂她让她早点...</td>\n",
       "      <td>0</td>\n",
       "    </tr>\n",
       "    <tr>\n",
       "      <th>4</th>\n",
       "      <td>有意识地建立自己的社群也很重要，一个人不穿bra走在路上孤单单，一群人不穿bra走在路上理直...</td>\n",
       "      <td>0</td>\n",
       "    </tr>\n",
       "  </tbody>\n",
       "</table>\n",
       "</div>"
      ]
     },
     "execution_count": 3,
     "metadata": {},
     "output_type": "execute_result"
    }
   ],
   "execution_count": 3
  },
  {
   "metadata": {
    "ExecuteTime": {
     "end_time": "2024-05-25T22:38:21.543844Z",
     "start_time": "2024-05-25T22:38:20.197425Z"
    }
   },
   "cell_type": "code",
   "source": [
    "from datasets import load_dataset\n",
    "dataset=load_dataset('csv',data_files={'train':'../weibo_emoji_data/train_weibo_emoji.csv','test':'../weibo_emoji_data/test_weibo_emoji.csv'})"
   ],
   "id": "8ec6373eea516ed7",
   "outputs": [
    {
     "data": {
      "text/plain": [
       "Generating train split: 0 examples [00:00, ? examples/s]"
      ],
      "application/vnd.jupyter.widget-view+json": {
       "version_major": 2,
       "version_minor": 0,
       "model_id": "c7227c54840846b8bb23d78545f62909"
      }
     },
     "metadata": {},
     "output_type": "display_data"
    },
    {
     "data": {
      "text/plain": [
       "Generating test split: 0 examples [00:00, ? examples/s]"
      ],
      "application/vnd.jupyter.widget-view+json": {
       "version_major": 2,
       "version_minor": 0,
       "model_id": "994372c4e6cb4dd9bd8759a25629388e"
      }
     },
     "metadata": {},
     "output_type": "display_data"
    }
   ],
   "execution_count": 4
  },
  {
   "metadata": {
    "ExecuteTime": {
     "end_time": "2024-05-25T22:38:23.251722Z",
     "start_time": "2024-05-25T22:38:23.236891Z"
    }
   },
   "cell_type": "code",
   "source": "print(dataset)",
   "id": "500f45f09722fb2b",
   "outputs": [
    {
     "name": "stdout",
     "output_type": "stream",
     "text": [
      "DatasetDict({\n",
      "    train: Dataset({\n",
      "        features: ['comment_text', 'label'],\n",
      "        num_rows: 2400\n",
      "    })\n",
      "    test: Dataset({\n",
      "        features: ['comment_text', 'label'],\n",
      "        num_rows: 600\n",
      "    })\n",
      "})\n"
     ]
    }
   ],
   "execution_count": 5
  },
  {
   "metadata": {
    "ExecuteTime": {
     "end_time": "2024-05-25T22:38:25.568270Z",
     "start_time": "2024-05-25T22:38:25.556702Z"
    }
   },
   "cell_type": "code",
   "source": [
    "from collections import Counter\n",
    "print(Counter(dataset['train']['label']))\n",
    "print(Counter(dataset['test']['label']))"
   ],
   "id": "271476012178e510",
   "outputs": [
    {
     "name": "stdout",
     "output_type": "stream",
     "text": [
      "Counter({1: 1265, 0: 1135})\n",
      "Counter({1: 316, 0: 284})\n"
     ]
    }
   ],
   "execution_count": 6
  },
  {
   "metadata": {},
   "cell_type": "markdown",
   "source": "# Tokenization",
   "id": "bc60bc773ebb2e9c"
  },
  {
   "metadata": {
    "ExecuteTime": {
     "end_time": "2024-05-25T22:38:27.555605Z",
     "start_time": "2024-05-25T22:38:26.877508Z"
    }
   },
   "cell_type": "code",
   "source": [
    "from transformers import AutoTokenizer\n",
    "tokenizer = AutoTokenizer.from_pretrained('microsoft/deberta-large')"
   ],
   "id": "8ec77736b7b9a299",
   "outputs": [],
   "execution_count": 7
  },
  {
   "metadata": {
    "ExecuteTime": {
     "end_time": "2024-05-25T22:38:30.364302Z",
     "start_time": "2024-05-25T22:38:29.351157Z"
    }
   },
   "cell_type": "code",
   "source": [
    "def tokenize_function(example):\n",
    "    return tokenizer(example['comment_text'],padding=\"max_length\",truncation=True,return_tensors=\"pt\")\n",
    "tokenized_dataset=dataset.map(tokenize_function, batched=True)"
   ],
   "id": "687d5f1c3cc76d68",
   "outputs": [
    {
     "data": {
      "text/plain": [
       "Map:   0%|          | 0/2400 [00:00<?, ? examples/s]"
      ],
      "application/vnd.jupyter.widget-view+json": {
       "version_major": 2,
       "version_minor": 0,
       "model_id": "12c03f1a69314c9ea88735c1c3cfcbd1"
      }
     },
     "metadata": {},
     "output_type": "display_data"
    },
    {
     "data": {
      "text/plain": [
       "Map:   0%|          | 0/600 [00:00<?, ? examples/s]"
      ],
      "application/vnd.jupyter.widget-view+json": {
       "version_major": 2,
       "version_minor": 0,
       "model_id": "48e73d8b1f654382aa5192201ae6d785"
      }
     },
     "metadata": {},
     "output_type": "display_data"
    }
   ],
   "execution_count": 8
  },
  {
   "metadata": {
    "ExecuteTime": {
     "end_time": "2024-05-25T22:38:32.039565Z",
     "start_time": "2024-05-25T22:38:32.033633Z"
    }
   },
   "cell_type": "code",
   "source": "print(tokenized_dataset)",
   "id": "328c090698e1b2f6",
   "outputs": [
    {
     "name": "stdout",
     "output_type": "stream",
     "text": [
      "DatasetDict({\n",
      "    train: Dataset({\n",
      "        features: ['comment_text', 'label', 'input_ids', 'token_type_ids', 'attention_mask'],\n",
      "        num_rows: 2400\n",
      "    })\n",
      "    test: Dataset({\n",
      "        features: ['comment_text', 'label', 'input_ids', 'token_type_ids', 'attention_mask'],\n",
      "        num_rows: 600\n",
      "    })\n",
      "})\n"
     ]
    }
   ],
   "execution_count": 9
  },
  {
   "metadata": {
    "ExecuteTime": {
     "end_time": "2024-05-25T22:38:34.749614Z",
     "start_time": "2024-05-25T22:38:34.722487Z"
    }
   },
   "cell_type": "code",
   "source": [
    "tokenized_dataset=tokenized_dataset.remove_columns(['comment_text'])\n",
    "tokenized_dataset=tokenized_dataset.rename_column('label','labels')\n",
    "tokenized_dataset.set_format('torch')\n",
    "print(tokenized_dataset)"
   ],
   "id": "e821d2d9b3c20673",
   "outputs": [
    {
     "name": "stdout",
     "output_type": "stream",
     "text": [
      "DatasetDict({\n",
      "    train: Dataset({\n",
      "        features: ['labels', 'input_ids', 'token_type_ids', 'attention_mask'],\n",
      "        num_rows: 2400\n",
      "    })\n",
      "    test: Dataset({\n",
      "        features: ['labels', 'input_ids', 'token_type_ids', 'attention_mask'],\n",
      "        num_rows: 600\n",
      "    })\n",
      "})\n"
     ]
    }
   ],
   "execution_count": 10
  },
  {
   "metadata": {
    "ExecuteTime": {
     "end_time": "2024-05-25T22:38:36.042565Z",
     "start_time": "2024-05-25T22:38:36.038581Z"
    }
   },
   "cell_type": "code",
   "source": [
    "from torch.utils.data import DataLoader\n",
    "train_dataloader = DataLoader(tokenized_dataset['train'], batch_size=4, shuffle=True)\n",
    "test_dataloader = DataLoader(tokenized_dataset['test'], batch_size=4, shuffle=True)"
   ],
   "id": "1def8290b324d554",
   "outputs": [],
   "execution_count": 11
  },
  {
   "metadata": {},
   "cell_type": "markdown",
   "source": "# Model and Optimizer",
   "id": "ea348a2af7d51772"
  },
  {
   "metadata": {
    "ExecuteTime": {
     "end_time": "2024-05-25T22:38:37.790695Z",
     "start_time": "2024-05-25T22:38:37.783144Z"
    }
   },
   "cell_type": "code",
   "source": [
    "id2label = {0: \"NONHATE\", 1: \"HATE\"}\n",
    "label2id = {\"NONHATE\": 0, \"HATE\": 1}"
   ],
   "id": "6462f55730f25580",
   "outputs": [],
   "execution_count": 12
  },
  {
   "metadata": {
    "ExecuteTime": {
     "end_time": "2024-05-25T22:38:46.185705Z",
     "start_time": "2024-05-25T22:38:39.578687Z"
    }
   },
   "cell_type": "code",
   "source": [
    "from transformers import AutoModelForSequenceClassification\n",
    "model = AutoModelForSequenceClassification.from_pretrained('microsoft/deberta-large', num_labels=2, id2label=id2label, label2id=label2id)"
   ],
   "id": "c611c3c9c305dd26",
   "outputs": [
    {
     "name": "stderr",
     "output_type": "stream",
     "text": [
      "Some weights of DebertaForSequenceClassification were not initialized from the model checkpoint at microsoft/deberta-large and are newly initialized: ['classifier.bias', 'classifier.weight', 'pooler.dense.bias', 'pooler.dense.weight']\n",
      "You should probably TRAIN this model on a down-stream task to be able to use it for predictions and inference.\n"
     ]
    }
   ],
   "execution_count": 13
  },
  {
   "metadata": {
    "ExecuteTime": {
     "end_time": "2024-05-25T22:38:47.824001Z",
     "start_time": "2024-05-25T22:38:47.816793Z"
    }
   },
   "cell_type": "code",
   "source": [
    "from torch.optim import AdamW\n",
    "optimizer = AdamW(model.parameters(), lr=1e-6)"
   ],
   "id": "7450f1a3f6e721b2",
   "outputs": [],
   "execution_count": 14
  },
  {
   "metadata": {
    "ExecuteTime": {
     "end_time": "2024-05-25T22:38:48.723902Z",
     "start_time": "2024-05-25T22:38:48.711587Z"
    }
   },
   "cell_type": "code",
   "source": [
    "from transformers import get_scheduler\n",
    "num_epochs = 5\n",
    "num_training_steps = len(train_dataloader) * num_epochs\n",
    "scheduler = get_scheduler(name='linear',optimizer=optimizer,num_warmup_steps=50,num_training_steps=num_training_steps)"
   ],
   "id": "82982ccf902995d6",
   "outputs": [],
   "execution_count": 15
  },
  {
   "metadata": {
    "ExecuteTime": {
     "end_time": "2024-05-25T22:38:50.541702Z",
     "start_time": "2024-05-25T22:38:50.518659Z"
    }
   },
   "cell_type": "code",
   "source": [
    "device = torch.device(\"cuda:0\" if torch.cuda.is_available() else \"cpu\")\n",
    "model.to(device)"
   ],
   "id": "a77af4171549aa18",
   "outputs": [
    {
     "data": {
      "text/plain": [
       "DebertaForSequenceClassification(\n",
       "  (deberta): DebertaModel(\n",
       "    (embeddings): DebertaEmbeddings(\n",
       "      (word_embeddings): Embedding(50265, 1024, padding_idx=0)\n",
       "      (LayerNorm): DebertaLayerNorm()\n",
       "      (dropout): StableDropout()\n",
       "    )\n",
       "    (encoder): DebertaEncoder(\n",
       "      (layer): ModuleList(\n",
       "        (0-23): 24 x DebertaLayer(\n",
       "          (attention): DebertaAttention(\n",
       "            (self): DisentangledSelfAttention(\n",
       "              (in_proj): Linear(in_features=1024, out_features=3072, bias=False)\n",
       "              (pos_dropout): StableDropout()\n",
       "              (pos_proj): Linear(in_features=1024, out_features=1024, bias=False)\n",
       "              (pos_q_proj): Linear(in_features=1024, out_features=1024, bias=True)\n",
       "              (dropout): StableDropout()\n",
       "            )\n",
       "            (output): DebertaSelfOutput(\n",
       "              (dense): Linear(in_features=1024, out_features=1024, bias=True)\n",
       "              (LayerNorm): DebertaLayerNorm()\n",
       "              (dropout): StableDropout()\n",
       "            )\n",
       "          )\n",
       "          (intermediate): DebertaIntermediate(\n",
       "            (dense): Linear(in_features=1024, out_features=4096, bias=True)\n",
       "            (intermediate_act_fn): GELUActivation()\n",
       "          )\n",
       "          (output): DebertaOutput(\n",
       "            (dense): Linear(in_features=4096, out_features=1024, bias=True)\n",
       "            (LayerNorm): DebertaLayerNorm()\n",
       "            (dropout): StableDropout()\n",
       "          )\n",
       "        )\n",
       "      )\n",
       "      (rel_embeddings): Embedding(1024, 1024)\n",
       "    )\n",
       "  )\n",
       "  (pooler): ContextPooler(\n",
       "    (dense): Linear(in_features=1024, out_features=1024, bias=True)\n",
       "    (dropout): StableDropout()\n",
       "  )\n",
       "  (classifier): Linear(in_features=1024, out_features=2, bias=True)\n",
       "  (dropout): StableDropout()\n",
       ")"
      ]
     },
     "execution_count": 16,
     "metadata": {},
     "output_type": "execute_result"
    }
   ],
   "execution_count": 16
  },
  {
   "metadata": {},
   "cell_type": "markdown",
   "source": "# Training and evaluation",
   "id": "40cdfa20f79cad4b"
  },
  {
   "metadata": {
    "ExecuteTime": {
     "end_time": "2024-05-25T22:38:53.845961Z",
     "start_time": "2024-05-25T22:38:53.835780Z"
    }
   },
   "cell_type": "code",
   "source": [
    "from tqdm.auto import tqdm\n",
    "\n",
    "def train(model, train_dataloader, optimizer, scheduler, num_epochs, num_training_steps):\n",
    "    progress_bar=tqdm(range(num_training_steps))\n",
    "    model.train()\n",
    "    \n",
    "    for epoch in range(num_epochs):\n",
    "        for batch in train_dataloader:\n",
    "            batch = {k: v.to(device) for k, v in batch.items()}\n",
    "            outputs=model(**batch)\n",
    "            loss=outputs.loss\n",
    "            loss.backward()\n",
    "            optimizer.step()\n",
    "            scheduler.step()\n",
    "            optimizer.zero_grad()\n",
    "            progress_bar.update(1)"
   ],
   "id": "ec578540ab7e04a1",
   "outputs": [],
   "execution_count": 17
  },
  {
   "metadata": {
    "ExecuteTime": {
     "end_time": "2024-05-25T22:38:55.601258Z",
     "start_time": "2024-05-25T22:38:54.827991Z"
    }
   },
   "cell_type": "code",
   "source": [
    "import evaluate\n",
    "\n",
    "def eval(model, test_dataloader):\n",
    "    acc=evaluate.load('accuracy')\n",
    "    f1=evaluate.load('f1')\n",
    "    mf1=evaluate.load('f1')\n",
    "    progress_bar = tqdm(range(len(test_dataloader)))\n",
    "\n",
    "    all_predictions = []\n",
    "    all_references = []\n",
    "\n",
    "    model.eval()\n",
    "\n",
    "    for batch in test_dataloader:\n",
    "        batch = {k: v.to(device) for k, v in batch.items()}\n",
    "        with torch.no_grad():\n",
    "            outputs=model(**batch)\n",
    "        \n",
    "        logits=outputs.logits\n",
    "        predictions=torch.argmax(logits,dim=-1)\n",
    "\n",
    "        all_predictions.extend(predictions.cpu().numpy())\n",
    "        all_references.extend(batch['labels'].cpu().numpy())\n",
    "        progress_bar.update(1)\n",
    "\n",
    "    accuracy=acc.compute(predictions=all_predictions,references=all_references)\n",
    "    f1_score=f1.compute(predictions=all_predictions,references=all_references,average=None)\n",
    "    macro_f1=mf1.compute(predictions=all_predictions,references=all_references,average='macro')\n",
    "    \n",
    "    return accuracy, f1_score, macro_f1"
   ],
   "id": "ecf169e24e1a16c5",
   "outputs": [],
   "execution_count": 18
  },
  {
   "metadata": {},
   "cell_type": "code",
   "source": [
    "train(model, train_dataloader, optimizer, scheduler, num_epochs, num_training_steps)\n",
    "acc,f1,mf1 = eval(model, test_dataloader)"
   ],
   "id": "13d740624e2dca35",
   "outputs": [],
   "execution_count": null
  },
  {
   "metadata": {},
   "cell_type": "code",
   "execution_count": 21,
   "source": [
    "print('Accuracy: ',acc['accuracy'])\n",
    "print('F1_sex: ', f1['f1'][1])\n",
    "print('F1_not: ', f1['f1'][0])\n",
    "print('F1_macro: ', mf1['f1'])"
   ],
   "id": "5b0561e248364564",
   "outputs": []
  }
 ],
 "metadata": {
  "kernelspec": {
   "display_name": "Python 3",
   "language": "python",
   "name": "python3"
  },
  "language_info": {
   "codemirror_mode": {
    "name": "ipython",
    "version": 2
   },
   "file_extension": ".py",
   "mimetype": "text/x-python",
   "name": "python",
   "nbconvert_exporter": "python",
   "pygments_lexer": "ipython2",
   "version": "2.7.6"
  }
 },
 "nbformat": 4,
 "nbformat_minor": 5
}
