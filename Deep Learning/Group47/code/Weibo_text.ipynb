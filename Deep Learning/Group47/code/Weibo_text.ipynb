{
 "cells": [
  {
   "cell_type": "markdown",
   "id": "242bb101780878ae",
   "metadata": {},
   "source": [
    "# Load Data "
   ]
  },
  {
   "cell_type": "code",
   "id": "initial_id",
   "metadata": {
    "collapsed": true,
    "jupyter": {
     "outputs_hidden": true
    },
    "ExecuteTime": {
     "end_time": "2024-05-25T23:01:22.294726Z",
     "start_time": "2024-05-25T23:01:22.289737Z"
    }
   },
   "source": [
    "import pandas as pd\n",
    "import numpy as np\n",
    "import torch"
   ],
   "outputs": [],
   "execution_count": 2
  },
  {
   "cell_type": "code",
   "id": "f1b9a23d5aca4261",
   "metadata": {
    "ExecuteTime": {
     "end_time": "2024-05-25T23:01:29.971067Z",
     "start_time": "2024-05-25T23:01:24.410828Z"
    }
   },
   "source": [
    "train=pd.read_csv('../weibo_text_data/train_weibo_text.csv')\n",
    "test=pd.read_csv('../weibo_text_data/test_weibo_text.csv')"
   ],
   "outputs": [],
   "execution_count": 3
  },
  {
   "cell_type": "code",
   "id": "6b505f891c779d0f",
   "metadata": {
    "ExecuteTime": {
     "end_time": "2024-05-25T23:01:30.948431Z",
     "start_time": "2024-05-25T23:01:30.935220Z"
    }
   },
   "source": "train.head()",
   "outputs": [
    {
     "data": {
      "text/plain": [
       "                                        comment_text  label\n",
       "0  我在工作后才开始怀疑自己是不是真的偏右，因为在网络上我其实是反对这些很过头的甚至会有恶劣负面...      0\n",
       "1              唉 上世纪70年代的阿富汗女性还是可以抛头露面的 她们的着装到现在都不过时      0\n",
       "2                   我觉得是这个文章源头pagesix的故意，毕竟写的又不止甜茶一个      0\n",
       "3          对的女生投稿喜欢男方再说一下男方性生活方面的事直接被骂 最近刚取关 真的无知当个性      0\n",
       "4  搞极端吸脑残粉变现挣钱呗，手段多着呢，我这几天看了很多那种“女权”博主，发现的奥秘所在,我觉...      1"
      ],
      "text/html": [
       "<div>\n",
       "<style scoped>\n",
       "    .dataframe tbody tr th:only-of-type {\n",
       "        vertical-align: middle;\n",
       "    }\n",
       "\n",
       "    .dataframe tbody tr th {\n",
       "        vertical-align: top;\n",
       "    }\n",
       "\n",
       "    .dataframe thead th {\n",
       "        text-align: right;\n",
       "    }\n",
       "</style>\n",
       "<table border=\"1\" class=\"dataframe\">\n",
       "  <thead>\n",
       "    <tr style=\"text-align: right;\">\n",
       "      <th></th>\n",
       "      <th>comment_text</th>\n",
       "      <th>label</th>\n",
       "    </tr>\n",
       "  </thead>\n",
       "  <tbody>\n",
       "    <tr>\n",
       "      <th>0</th>\n",
       "      <td>我在工作后才开始怀疑自己是不是真的偏右，因为在网络上我其实是反对这些很过头的甚至会有恶劣负面...</td>\n",
       "      <td>0</td>\n",
       "    </tr>\n",
       "    <tr>\n",
       "      <th>1</th>\n",
       "      <td>唉 上世纪70年代的阿富汗女性还是可以抛头露面的 她们的着装到现在都不过时</td>\n",
       "      <td>0</td>\n",
       "    </tr>\n",
       "    <tr>\n",
       "      <th>2</th>\n",
       "      <td>我觉得是这个文章源头pagesix的故意，毕竟写的又不止甜茶一个</td>\n",
       "      <td>0</td>\n",
       "    </tr>\n",
       "    <tr>\n",
       "      <th>3</th>\n",
       "      <td>对的女生投稿喜欢男方再说一下男方性生活方面的事直接被骂 最近刚取关 真的无知当个性</td>\n",
       "      <td>0</td>\n",
       "    </tr>\n",
       "    <tr>\n",
       "      <th>4</th>\n",
       "      <td>搞极端吸脑残粉变现挣钱呗，手段多着呢，我这几天看了很多那种“女权”博主，发现的奥秘所在,我觉...</td>\n",
       "      <td>1</td>\n",
       "    </tr>\n",
       "  </tbody>\n",
       "</table>\n",
       "</div>"
      ]
     },
     "execution_count": 4,
     "metadata": {},
     "output_type": "execute_result"
    }
   ],
   "execution_count": 4
  },
  {
   "cell_type": "code",
   "id": "bc9718f588dc2e04",
   "metadata": {
    "ExecuteTime": {
     "end_time": "2024-05-25T23:01:32.310101Z",
     "start_time": "2024-05-25T23:01:32.306389Z"
    }
   },
   "source": [
    "print(train.shape)\n",
    "print(test.shape)"
   ],
   "outputs": [
    {
     "name": "stdout",
     "output_type": "stream",
     "text": [
      "(8072, 2)\n",
      "(897, 2)\n"
     ]
    }
   ],
   "execution_count": 5
  },
  {
   "cell_type": "code",
   "id": "89991f10cb455e2d",
   "metadata": {
    "ExecuteTime": {
     "end_time": "2024-05-25T23:01:36.232191Z",
     "start_time": "2024-05-25T23:01:35.073300Z"
    }
   },
   "source": [
    "from datasets import load_dataset\n",
    "dataset=load_dataset('csv',data_files={'train': '../weibo_text_data/train_weibo_text.csv', 'test': '../weibo_text_data/test_weibo_text.csv'})"
   ],
   "outputs": [],
   "execution_count": 6
  },
  {
   "cell_type": "code",
   "id": "322e16469b1aaa85",
   "metadata": {
    "ExecuteTime": {
     "end_time": "2024-05-25T23:01:37.614840Z",
     "start_time": "2024-05-25T23:01:37.611072Z"
    }
   },
   "source": "print(dataset)",
   "outputs": [
    {
     "name": "stdout",
     "output_type": "stream",
     "text": [
      "DatasetDict({\n",
      "    train: Dataset({\n",
      "        features: ['comment_text', 'label'],\n",
      "        num_rows: 8072\n",
      "    })\n",
      "    test: Dataset({\n",
      "        features: ['comment_text', 'label'],\n",
      "        num_rows: 897\n",
      "    })\n",
      "})\n"
     ]
    }
   ],
   "execution_count": 7
  },
  {
   "cell_type": "code",
   "id": "c07fc4da628a4b3b",
   "metadata": {
    "ExecuteTime": {
     "end_time": "2024-05-25T23:01:38.580203Z",
     "start_time": "2024-05-25T23:01:38.572288Z"
    }
   },
   "source": [
    "from collections import Counter\n",
    "print(Counter(dataset['train']['label']))\n",
    "print(Counter(dataset['test']['label']))"
   ],
   "outputs": [
    {
     "name": "stdout",
     "output_type": "stream",
     "text": [
      "Counter({0: 5288, 1: 2784})\n",
      "Counter({0: 588, 1: 309})\n"
     ]
    }
   ],
   "execution_count": 8
  },
  {
   "cell_type": "markdown",
   "id": "819e4d8f1e20b2c7",
   "metadata": {},
   "source": [
    "# Tokenization"
   ]
  },
  {
   "cell_type": "code",
   "id": "c92b7505f17bb2c0",
   "metadata": {
    "ExecuteTime": {
     "end_time": "2024-05-25T23:01:42.950699Z",
     "start_time": "2024-05-25T23:01:42.416887Z"
    }
   },
   "source": [
    "from transformers import AutoTokenizer\n",
    "tokenizer = AutoTokenizer.from_pretrained('microsoft/deberta-large')"
   ],
   "outputs": [],
   "execution_count": 9
  },
  {
   "cell_type": "code",
   "id": "9a70089bf9ee94f9",
   "metadata": {
    "ExecuteTime": {
     "end_time": "2024-05-25T23:01:44.666624Z",
     "start_time": "2024-05-25T23:01:44.604910Z"
    }
   },
   "source": [
    "def tokenize_function(example):\n",
    "    return tokenizer(example['comment_text'],padding=\"max_length\",truncation=True,return_tensors=\"pt\")\n",
    "tokenized_dataset=dataset.map(tokenize_function, batched=True)"
   ],
   "outputs": [],
   "execution_count": 10
  },
  {
   "cell_type": "code",
   "id": "9fbd57fb1d8ed0dd",
   "metadata": {
    "ExecuteTime": {
     "end_time": "2024-05-25T23:01:45.874253Z",
     "start_time": "2024-05-25T23:01:45.870849Z"
    }
   },
   "source": [
    "print(tokenized_dataset)"
   ],
   "outputs": [
    {
     "name": "stdout",
     "output_type": "stream",
     "text": [
      "DatasetDict({\n",
      "    train: Dataset({\n",
      "        features: ['comment_text', 'label', 'input_ids', 'token_type_ids', 'attention_mask'],\n",
      "        num_rows: 8072\n",
      "    })\n",
      "    test: Dataset({\n",
      "        features: ['comment_text', 'label', 'input_ids', 'token_type_ids', 'attention_mask'],\n",
      "        num_rows: 897\n",
      "    })\n",
      "})\n"
     ]
    }
   ],
   "execution_count": 11
  },
  {
   "cell_type": "code",
   "id": "8db7ba3d2a7b44b2",
   "metadata": {
    "ExecuteTime": {
     "end_time": "2024-05-25T23:01:47.318773Z",
     "start_time": "2024-05-25T23:01:47.306455Z"
    }
   },
   "source": [
    "tokenized_dataset=tokenized_dataset.remove_columns(['comment_text'])\n",
    "tokenized_dataset=tokenized_dataset.rename_column('label','labels')\n",
    "tokenized_dataset.set_format('torch')\n",
    "print(tokenized_dataset)"
   ],
   "outputs": [
    {
     "name": "stdout",
     "output_type": "stream",
     "text": [
      "DatasetDict({\n",
      "    train: Dataset({\n",
      "        features: ['labels', 'input_ids', 'token_type_ids', 'attention_mask'],\n",
      "        num_rows: 8072\n",
      "    })\n",
      "    test: Dataset({\n",
      "        features: ['labels', 'input_ids', 'token_type_ids', 'attention_mask'],\n",
      "        num_rows: 897\n",
      "    })\n",
      "})\n"
     ]
    }
   ],
   "execution_count": 12
  },
  {
   "cell_type": "code",
   "id": "7f970e372b186b3b",
   "metadata": {
    "ExecuteTime": {
     "end_time": "2024-05-25T23:01:48.504122Z",
     "start_time": "2024-05-25T23:01:48.498516Z"
    }
   },
   "source": [
    "from torch.utils.data import DataLoader\n",
    "train_dataloader = DataLoader(tokenized_dataset['train'], batch_size=4, shuffle=True)\n",
    "test_dataloader = DataLoader(tokenized_dataset['test'], batch_size=4, shuffle=True)"
   ],
   "outputs": [],
   "execution_count": 13
  },
  {
   "cell_type": "markdown",
   "id": "e1cfff9e4e3e54ac",
   "metadata": {},
   "source": [
    "# Model and Optimizer"
   ]
  },
  {
   "cell_type": "code",
   "id": "57352ba0e667d84e",
   "metadata": {
    "ExecuteTime": {
     "end_time": "2024-05-25T23:01:51.187492Z",
     "start_time": "2024-05-25T23:01:51.183868Z"
    }
   },
   "source": [
    "id2label = {0: \"NONHATE\", 1: \"HATE\"}\n",
    "label2id = {\"NONHATE\": 0, \"HATE\": 1}"
   ],
   "outputs": [],
   "execution_count": 14
  },
  {
   "cell_type": "code",
   "id": "b8dd56227515757",
   "metadata": {
    "ExecuteTime": {
     "end_time": "2024-05-25T23:01:58.125401Z",
     "start_time": "2024-05-25T23:01:52.670308Z"
    }
   },
   "source": [
    "from transformers import AutoModelForSequenceClassification\n",
    "model = AutoModelForSequenceClassification.from_pretrained('microsoft/deberta-large', num_labels=2, id2label=id2label, label2id=label2id)"
   ],
   "outputs": [
    {
     "name": "stderr",
     "output_type": "stream",
     "text": [
      "Some weights of DebertaForSequenceClassification were not initialized from the model checkpoint at microsoft/deberta-large and are newly initialized: ['classifier.bias', 'classifier.weight', 'pooler.dense.bias', 'pooler.dense.weight']\n",
      "You should probably TRAIN this model on a down-stream task to be able to use it for predictions and inference.\n"
     ]
    }
   ],
   "execution_count": 15
  },
  {
   "cell_type": "code",
   "id": "ac7532a73269ba08",
   "metadata": {
    "ExecuteTime": {
     "end_time": "2024-05-25T23:01:59.309630Z",
     "start_time": "2024-05-25T23:01:59.302891Z"
    }
   },
   "source": [
    "from torch.optim import AdamW\n",
    "optimizer = AdamW(model.parameters(), lr=1e-6)"
   ],
   "outputs": [],
   "execution_count": 16
  },
  {
   "cell_type": "code",
   "id": "77232602dc225f06",
   "metadata": {
    "ExecuteTime": {
     "end_time": "2024-05-25T23:02:00.187675Z",
     "start_time": "2024-05-25T23:02:00.149815Z"
    }
   },
   "source": [
    "from transformers import get_scheduler\n",
    "num_epochs = 5\n",
    "num_training_steps = len(train_dataloader) * num_epochs\n",
    "scheduler = get_scheduler(name='linear',optimizer=optimizer,num_warmup_steps=50,num_training_steps=num_training_steps)"
   ],
   "outputs": [],
   "execution_count": 17
  },
  {
   "cell_type": "code",
   "id": "f9b6d092d916a6ae",
   "metadata": {
    "ExecuteTime": {
     "end_time": "2024-05-25T23:02:01.120237Z",
     "start_time": "2024-05-25T23:02:01.110615Z"
    }
   },
   "source": [
    "device = torch.device(\"cuda:0\" if torch.cuda.is_available() else \"cpu\")\n",
    "model.to(device)"
   ],
   "outputs": [
    {
     "data": {
      "text/plain": [
       "DebertaForSequenceClassification(\n",
       "  (deberta): DebertaModel(\n",
       "    (embeddings): DebertaEmbeddings(\n",
       "      (word_embeddings): Embedding(50265, 1024, padding_idx=0)\n",
       "      (LayerNorm): DebertaLayerNorm()\n",
       "      (dropout): StableDropout()\n",
       "    )\n",
       "    (encoder): DebertaEncoder(\n",
       "      (layer): ModuleList(\n",
       "        (0-23): 24 x DebertaLayer(\n",
       "          (attention): DebertaAttention(\n",
       "            (self): DisentangledSelfAttention(\n",
       "              (in_proj): Linear(in_features=1024, out_features=3072, bias=False)\n",
       "              (pos_dropout): StableDropout()\n",
       "              (pos_proj): Linear(in_features=1024, out_features=1024, bias=False)\n",
       "              (pos_q_proj): Linear(in_features=1024, out_features=1024, bias=True)\n",
       "              (dropout): StableDropout()\n",
       "            )\n",
       "            (output): DebertaSelfOutput(\n",
       "              (dense): Linear(in_features=1024, out_features=1024, bias=True)\n",
       "              (LayerNorm): DebertaLayerNorm()\n",
       "              (dropout): StableDropout()\n",
       "            )\n",
       "          )\n",
       "          (intermediate): DebertaIntermediate(\n",
       "            (dense): Linear(in_features=1024, out_features=4096, bias=True)\n",
       "            (intermediate_act_fn): GELUActivation()\n",
       "          )\n",
       "          (output): DebertaOutput(\n",
       "            (dense): Linear(in_features=4096, out_features=1024, bias=True)\n",
       "            (LayerNorm): DebertaLayerNorm()\n",
       "            (dropout): StableDropout()\n",
       "          )\n",
       "        )\n",
       "      )\n",
       "      (rel_embeddings): Embedding(1024, 1024)\n",
       "    )\n",
       "  )\n",
       "  (pooler): ContextPooler(\n",
       "    (dense): Linear(in_features=1024, out_features=1024, bias=True)\n",
       "    (dropout): StableDropout()\n",
       "  )\n",
       "  (classifier): Linear(in_features=1024, out_features=2, bias=True)\n",
       "  (dropout): StableDropout()\n",
       ")"
      ]
     },
     "execution_count": 18,
     "metadata": {},
     "output_type": "execute_result"
    }
   ],
   "execution_count": 18
  },
  {
   "cell_type": "markdown",
   "id": "78603194234904fb",
   "metadata": {},
   "source": [
    "# Training and evaluation"
   ]
  },
  {
   "cell_type": "code",
   "id": "6324d1ec729325e8",
   "metadata": {
    "ExecuteTime": {
     "end_time": "2024-05-25T23:02:06.848569Z",
     "start_time": "2024-05-25T23:02:06.838942Z"
    }
   },
   "source": [
    "from tqdm.auto import tqdm\n",
    "\n",
    "def train(model, train_dataloader, optimizer, scheduler, num_epochs, num_training_steps):\n",
    "    progress_bar=tqdm(range(num_training_steps))\n",
    "    model.train()\n",
    "    \n",
    "    for epoch in range(num_epochs):\n",
    "        for batch in train_dataloader:\n",
    "            batch = {k: v.to(device) for k, v in batch.items()}\n",
    "            outputs=model(**batch)\n",
    "            loss=outputs.loss\n",
    "            loss.backward()\n",
    "            optimizer.step()\n",
    "            scheduler.step()\n",
    "            optimizer.zero_grad()\n",
    "            progress_bar.update(1)"
   ],
   "outputs": [],
   "execution_count": 19
  },
  {
   "cell_type": "code",
   "id": "26958babafccfbd2",
   "metadata": {
    "ExecuteTime": {
     "end_time": "2024-05-25T23:02:09.254269Z",
     "start_time": "2024-05-25T23:02:08.476465Z"
    }
   },
   "source": [
    "import evaluate\n",
    "\n",
    "def eval(model, test_dataloader):\n",
    "    acc=evaluate.load('accuracy')\n",
    "    f1=evaluate.load('f1')\n",
    "    mf1=evaluate.load('f1')\n",
    "    progress_bar = tqdm(range(len(test_dataloader)))\n",
    "\n",
    "    all_predictions = []\n",
    "    all_references = []\n",
    "\n",
    "    model.eval()\n",
    "\n",
    "    for batch in test_dataloader:\n",
    "        batch = {k: v.to(device) for k, v in batch.items()}\n",
    "        with torch.no_grad():\n",
    "            outputs=model(**batch)\n",
    "        \n",
    "        logits=outputs.logits\n",
    "        predictions=torch.argmax(logits,dim=-1)\n",
    "\n",
    "        all_predictions.extend(predictions.cpu().numpy())\n",
    "        all_references.extend(batch['labels'].cpu().numpy())\n",
    "        progress_bar.update(1)\n",
    "\n",
    "    accuracy=acc.compute(predictions=all_predictions,references=all_references)\n",
    "    f1_score=f1.compute(predictions=all_predictions,references=all_references,average=None)\n",
    "    macro_f1=mf1.compute(predictions=all_predictions,references=all_references,average='macro')\n",
    "    \n",
    "    return accuracy, f1_score, macro_f1"
   ],
   "outputs": [],
   "execution_count": 20
  },
  {
   "metadata": {},
   "cell_type": "code",
   "source": [
    "train(model, train_dataloader, optimizer, scheduler, num_epochs, num_training_steps)\n",
    "acc, f1, mf1 = eval(model, test_dataloader)"
   ],
   "id": "438ad6f17c909f9c",
   "outputs": [],
   "execution_count": null
  },
  {
   "metadata": {},
   "cell_type": "code",
   "outputs": [],
   "execution_count": null,
   "source": [
    "print(\"Result: Weibo_text_prev\")\n",
    "print('Accuracy: ', acc['accuracy'])\n",
    "print('F1_hate: ', f1['f1'][1])\n",
    "print('F1_not: ', f1['f1'][0])\n",
    "print('F1_macro: ', mf1['f1'])"
   ],
   "id": "214cf8e58c60764f"
  }
 ],
 "metadata": {
  "kernelspec": {
   "display_name": "Python 3 (ipykernel)",
   "language": "python",
   "name": "python3"
  },
  "language_info": {
   "codemirror_mode": {
    "name": "ipython",
    "version": 3
   },
   "file_extension": ".py",
   "mimetype": "text/x-python",
   "name": "python",
   "nbconvert_exporter": "python",
   "pygments_lexer": "ipython3",
   "version": "3.11.9"
  }
 },
 "nbformat": 4,
 "nbformat_minor": 5
}
